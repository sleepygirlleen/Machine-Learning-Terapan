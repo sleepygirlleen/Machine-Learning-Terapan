{
  "cells": [
    {
      "cell_type": "markdown",
      "metadata": {
        "id": "1UvPAyor2Zdm"
      },
      "source": [
        "#**Proyek Machine Learning Terapan 1**\n",
        "\n",
        "- **Nama:** Sulistiani\n",
        "- **Email:** lisasa2lilisa@gmail.com\n",
        "- **ID Dicoding:** hi_itslizeu"
      ]
    },
    {
      "cell_type": "markdown",
      "metadata": {
        "id": "a8yyBVaR3b-x"
      },
      "source": [
        "## **Import Library**"
      ]
    },
    {
      "cell_type": "code",
      "execution_count": null,
      "metadata": {
        "id": "aBt5m29z2U70"
      },
      "outputs": [],
      "source": [
        "import numpy as np\n",
        "import pandas as pd\n",
        "import matplotlib.pyplot as plt\n",
        "import seaborn as sns\n",
        "from sklearn.ensemble import RandomForestRegressor\n",
        "import numpy\n",
        "from sklearn import metrics\n",
        "import matplotlib.pyplot as plt\n",
        "import seaborn as sns\n",
        "%matplotlib inline\n",
        "from IPython.display import display\n",
        "from sklearn.impute import SimpleImputer\n",
        "from sklearn.model_selection import GridSearchCV\n",
        "from sklearn.ensemble import RandomForestClassifier\n",
        "from typing import Dict, List, Tuple\n",
        "from sklearn.model_selection import ShuffleSplit, cross_validate, train_test_split\n",
        "from sklearn.metrics import mean_squared_error, mean_absolute_error, r2_score, make_scorer\n",
        "from sklearn.base import BaseEstimator\n",
        "from sklearn.preprocessing import LabelEncoder\n",
        "from sklearn.svm import SVR\n",
        "from sklearn.neighbors import KNeighborsRegressor"
      ]
    },
    {
      "cell_type": "markdown",
      "metadata": {
        "id": "Xe76SmZ43qJX"
      },
      "source": [
        "## **Import Dataset**"
      ]
    },
    {
      "cell_type": "code",
      "execution_count": null,
      "metadata": {
        "id": "3DIkMCYc3pdC"
      },
      "outputs": [],
      "source": [
        "# Import dataset\n",
        "df = pd.read_csv('student_habits_performance.csv')"
      ]
    },
    {
      "cell_type": "markdown",
      "metadata": {
        "id": "zScTtTa_4Qhf"
      },
      "source": [
        "## **Assessing Data**"
      ]
    },
    {
      "cell_type": "code",
      "execution_count": null,
      "metadata": {
        "colab": {
          "base_uri": "https://localhost:8080/"
        },
        "id": "r3jKO_ws4L2X",
        "outputId": "cf374f35-1c05-4346-e345-80b14d4192b5"
      },
      "outputs": [
        {
          "output_type": "execute_result",
          "data": {
            "text/plain": [
              "(1000, 16)"
            ]
          },
          "metadata": {},
          "execution_count": 4
        }
      ],
      "source": [
        "# Menampilkan ukuran dataset\n",
        "df.shape"
      ]
    },
    {
      "cell_type": "code",
      "execution_count": null,
      "metadata": {
        "colab": {
          "base_uri": "https://localhost:8080/",
          "height": 226
        },
        "id": "CFLsG7lq4cAf",
        "outputId": "e6c4e54e-d25a-4e20-b486-894c03463917"
      },
      "outputs": [
        {
          "output_type": "execute_result",
          "data": {
            "text/plain": [
              "  student_id  age  gender  study_hours_per_day  social_media_hours  \\\n",
              "0      S1000   23  Female                  0.0                 1.2   \n",
              "1      S1001   20  Female                  6.9                 2.8   \n",
              "2      S1002   21    Male                  1.4                 3.1   \n",
              "3      S1003   23  Female                  1.0                 3.9   \n",
              "4      S1004   19  Female                  5.0                 4.4   \n",
              "\n",
              "   netflix_hours part_time_job  attendance_percentage  sleep_hours  \\\n",
              "0            1.1            No                   85.0          8.0   \n",
              "1            2.3            No                   97.3          4.6   \n",
              "2            1.3            No                   94.8          8.0   \n",
              "3            1.0            No                   71.0          9.2   \n",
              "4            0.5            No                   90.9          4.9   \n",
              "\n",
              "  diet_quality  exercise_frequency parental_education_level internet_quality  \\\n",
              "0         Fair                   6                   Master          Average   \n",
              "1         Good                   6              High School          Average   \n",
              "2         Poor                   1              High School             Poor   \n",
              "3         Poor                   4                   Master             Good   \n",
              "4         Fair                   3                   Master             Good   \n",
              "\n",
              "   mental_health_rating extracurricular_participation  exam_score  \n",
              "0                     8                           Yes        56.2  \n",
              "1                     8                            No       100.0  \n",
              "2                     1                            No        34.3  \n",
              "3                     1                           Yes        26.8  \n",
              "4                     1                            No        66.4  "
            ],
            "text/html": [
              "\n",
              "  <div id=\"df-7490a3a4-5ac3-4554-bf45-ded85760debf\" class=\"colab-df-container\">\n",
              "    <div>\n",
              "<style scoped>\n",
              "    .dataframe tbody tr th:only-of-type {\n",
              "        vertical-align: middle;\n",
              "    }\n",
              "\n",
              "    .dataframe tbody tr th {\n",
              "        vertical-align: top;\n",
              "    }\n",
              "\n",
              "    .dataframe thead th {\n",
              "        text-align: right;\n",
              "    }\n",
              "</style>\n",
              "<table border=\"1\" class=\"dataframe\">\n",
              "  <thead>\n",
              "    <tr style=\"text-align: right;\">\n",
              "      <th></th>\n",
              "      <th>student_id</th>\n",
              "      <th>age</th>\n",
              "      <th>gender</th>\n",
              "      <th>study_hours_per_day</th>\n",
              "      <th>social_media_hours</th>\n",
              "      <th>netflix_hours</th>\n",
              "      <th>part_time_job</th>\n",
              "      <th>attendance_percentage</th>\n",
              "      <th>sleep_hours</th>\n",
              "      <th>diet_quality</th>\n",
              "      <th>exercise_frequency</th>\n",
              "      <th>parental_education_level</th>\n",
              "      <th>internet_quality</th>\n",
              "      <th>mental_health_rating</th>\n",
              "      <th>extracurricular_participation</th>\n",
              "      <th>exam_score</th>\n",
              "    </tr>\n",
              "  </thead>\n",
              "  <tbody>\n",
              "    <tr>\n",
              "      <th>0</th>\n",
              "      <td>S1000</td>\n",
              "      <td>23</td>\n",
              "      <td>Female</td>\n",
              "      <td>0.0</td>\n",
              "      <td>1.2</td>\n",
              "      <td>1.1</td>\n",
              "      <td>No</td>\n",
              "      <td>85.0</td>\n",
              "      <td>8.0</td>\n",
              "      <td>Fair</td>\n",
              "      <td>6</td>\n",
              "      <td>Master</td>\n",
              "      <td>Average</td>\n",
              "      <td>8</td>\n",
              "      <td>Yes</td>\n",
              "      <td>56.2</td>\n",
              "    </tr>\n",
              "    <tr>\n",
              "      <th>1</th>\n",
              "      <td>S1001</td>\n",
              "      <td>20</td>\n",
              "      <td>Female</td>\n",
              "      <td>6.9</td>\n",
              "      <td>2.8</td>\n",
              "      <td>2.3</td>\n",
              "      <td>No</td>\n",
              "      <td>97.3</td>\n",
              "      <td>4.6</td>\n",
              "      <td>Good</td>\n",
              "      <td>6</td>\n",
              "      <td>High School</td>\n",
              "      <td>Average</td>\n",
              "      <td>8</td>\n",
              "      <td>No</td>\n",
              "      <td>100.0</td>\n",
              "    </tr>\n",
              "    <tr>\n",
              "      <th>2</th>\n",
              "      <td>S1002</td>\n",
              "      <td>21</td>\n",
              "      <td>Male</td>\n",
              "      <td>1.4</td>\n",
              "      <td>3.1</td>\n",
              "      <td>1.3</td>\n",
              "      <td>No</td>\n",
              "      <td>94.8</td>\n",
              "      <td>8.0</td>\n",
              "      <td>Poor</td>\n",
              "      <td>1</td>\n",
              "      <td>High School</td>\n",
              "      <td>Poor</td>\n",
              "      <td>1</td>\n",
              "      <td>No</td>\n",
              "      <td>34.3</td>\n",
              "    </tr>\n",
              "    <tr>\n",
              "      <th>3</th>\n",
              "      <td>S1003</td>\n",
              "      <td>23</td>\n",
              "      <td>Female</td>\n",
              "      <td>1.0</td>\n",
              "      <td>3.9</td>\n",
              "      <td>1.0</td>\n",
              "      <td>No</td>\n",
              "      <td>71.0</td>\n",
              "      <td>9.2</td>\n",
              "      <td>Poor</td>\n",
              "      <td>4</td>\n",
              "      <td>Master</td>\n",
              "      <td>Good</td>\n",
              "      <td>1</td>\n",
              "      <td>Yes</td>\n",
              "      <td>26.8</td>\n",
              "    </tr>\n",
              "    <tr>\n",
              "      <th>4</th>\n",
              "      <td>S1004</td>\n",
              "      <td>19</td>\n",
              "      <td>Female</td>\n",
              "      <td>5.0</td>\n",
              "      <td>4.4</td>\n",
              "      <td>0.5</td>\n",
              "      <td>No</td>\n",
              "      <td>90.9</td>\n",
              "      <td>4.9</td>\n",
              "      <td>Fair</td>\n",
              "      <td>3</td>\n",
              "      <td>Master</td>\n",
              "      <td>Good</td>\n",
              "      <td>1</td>\n",
              "      <td>No</td>\n",
              "      <td>66.4</td>\n",
              "    </tr>\n",
              "  </tbody>\n",
              "</table>\n",
              "</div>\n",
              "    <div class=\"colab-df-buttons\">\n",
              "\n",
              "  <div class=\"colab-df-container\">\n",
              "    <button class=\"colab-df-convert\" onclick=\"convertToInteractive('df-7490a3a4-5ac3-4554-bf45-ded85760debf')\"\n",
              "            title=\"Convert this dataframe to an interactive table.\"\n",
              "            style=\"display:none;\">\n",
              "\n",
              "  <svg xmlns=\"http://www.w3.org/2000/svg\" height=\"24px\" viewBox=\"0 -960 960 960\">\n",
              "    <path d=\"M120-120v-720h720v720H120Zm60-500h600v-160H180v160Zm220 220h160v-160H400v160Zm0 220h160v-160H400v160ZM180-400h160v-160H180v160Zm440 0h160v-160H620v160ZM180-180h160v-160H180v160Zm440 0h160v-160H620v160Z\"/>\n",
              "  </svg>\n",
              "    </button>\n",
              "\n",
              "  <style>\n",
              "    .colab-df-container {\n",
              "      display:flex;\n",
              "      gap: 12px;\n",
              "    }\n",
              "\n",
              "    .colab-df-convert {\n",
              "      background-color: #E8F0FE;\n",
              "      border: none;\n",
              "      border-radius: 50%;\n",
              "      cursor: pointer;\n",
              "      display: none;\n",
              "      fill: #1967D2;\n",
              "      height: 32px;\n",
              "      padding: 0 0 0 0;\n",
              "      width: 32px;\n",
              "    }\n",
              "\n",
              "    .colab-df-convert:hover {\n",
              "      background-color: #E2EBFA;\n",
              "      box-shadow: 0px 1px 2px rgba(60, 64, 67, 0.3), 0px 1px 3px 1px rgba(60, 64, 67, 0.15);\n",
              "      fill: #174EA6;\n",
              "    }\n",
              "\n",
              "    .colab-df-buttons div {\n",
              "      margin-bottom: 4px;\n",
              "    }\n",
              "\n",
              "    [theme=dark] .colab-df-convert {\n",
              "      background-color: #3B4455;\n",
              "      fill: #D2E3FC;\n",
              "    }\n",
              "\n",
              "    [theme=dark] .colab-df-convert:hover {\n",
              "      background-color: #434B5C;\n",
              "      box-shadow: 0px 1px 3px 1px rgba(0, 0, 0, 0.15);\n",
              "      filter: drop-shadow(0px 1px 2px rgba(0, 0, 0, 0.3));\n",
              "      fill: #FFFFFF;\n",
              "    }\n",
              "  </style>\n",
              "\n",
              "    <script>\n",
              "      const buttonEl =\n",
              "        document.querySelector('#df-7490a3a4-5ac3-4554-bf45-ded85760debf button.colab-df-convert');\n",
              "      buttonEl.style.display =\n",
              "        google.colab.kernel.accessAllowed ? 'block' : 'none';\n",
              "\n",
              "      async function convertToInteractive(key) {\n",
              "        const element = document.querySelector('#df-7490a3a4-5ac3-4554-bf45-ded85760debf');\n",
              "        const dataTable =\n",
              "          await google.colab.kernel.invokeFunction('convertToInteractive',\n",
              "                                                    [key], {});\n",
              "        if (!dataTable) return;\n",
              "\n",
              "        const docLinkHtml = 'Like what you see? Visit the ' +\n",
              "          '<a target=\"_blank\" href=https://colab.research.google.com/notebooks/data_table.ipynb>data table notebook</a>'\n",
              "          + ' to learn more about interactive tables.';\n",
              "        element.innerHTML = '';\n",
              "        dataTable['output_type'] = 'display_data';\n",
              "        await google.colab.output.renderOutput(dataTable, element);\n",
              "        const docLink = document.createElement('div');\n",
              "        docLink.innerHTML = docLinkHtml;\n",
              "        element.appendChild(docLink);\n",
              "      }\n",
              "    </script>\n",
              "  </div>\n",
              "\n",
              "\n",
              "    <div id=\"df-194d5d4b-65c8-4bef-91f8-1bbac06beb71\">\n",
              "      <button class=\"colab-df-quickchart\" onclick=\"quickchart('df-194d5d4b-65c8-4bef-91f8-1bbac06beb71')\"\n",
              "                title=\"Suggest charts\"\n",
              "                style=\"display:none;\">\n",
              "\n",
              "<svg xmlns=\"http://www.w3.org/2000/svg\" height=\"24px\"viewBox=\"0 0 24 24\"\n",
              "     width=\"24px\">\n",
              "    <g>\n",
              "        <path d=\"M19 3H5c-1.1 0-2 .9-2 2v14c0 1.1.9 2 2 2h14c1.1 0 2-.9 2-2V5c0-1.1-.9-2-2-2zM9 17H7v-7h2v7zm4 0h-2V7h2v10zm4 0h-2v-4h2v4z\"/>\n",
              "    </g>\n",
              "</svg>\n",
              "      </button>\n",
              "\n",
              "<style>\n",
              "  .colab-df-quickchart {\n",
              "      --bg-color: #E8F0FE;\n",
              "      --fill-color: #1967D2;\n",
              "      --hover-bg-color: #E2EBFA;\n",
              "      --hover-fill-color: #174EA6;\n",
              "      --disabled-fill-color: #AAA;\n",
              "      --disabled-bg-color: #DDD;\n",
              "  }\n",
              "\n",
              "  [theme=dark] .colab-df-quickchart {\n",
              "      --bg-color: #3B4455;\n",
              "      --fill-color: #D2E3FC;\n",
              "      --hover-bg-color: #434B5C;\n",
              "      --hover-fill-color: #FFFFFF;\n",
              "      --disabled-bg-color: #3B4455;\n",
              "      --disabled-fill-color: #666;\n",
              "  }\n",
              "\n",
              "  .colab-df-quickchart {\n",
              "    background-color: var(--bg-color);\n",
              "    border: none;\n",
              "    border-radius: 50%;\n",
              "    cursor: pointer;\n",
              "    display: none;\n",
              "    fill: var(--fill-color);\n",
              "    height: 32px;\n",
              "    padding: 0;\n",
              "    width: 32px;\n",
              "  }\n",
              "\n",
              "  .colab-df-quickchart:hover {\n",
              "    background-color: var(--hover-bg-color);\n",
              "    box-shadow: 0 1px 2px rgba(60, 64, 67, 0.3), 0 1px 3px 1px rgba(60, 64, 67, 0.15);\n",
              "    fill: var(--button-hover-fill-color);\n",
              "  }\n",
              "\n",
              "  .colab-df-quickchart-complete:disabled,\n",
              "  .colab-df-quickchart-complete:disabled:hover {\n",
              "    background-color: var(--disabled-bg-color);\n",
              "    fill: var(--disabled-fill-color);\n",
              "    box-shadow: none;\n",
              "  }\n",
              "\n",
              "  .colab-df-spinner {\n",
              "    border: 2px solid var(--fill-color);\n",
              "    border-color: transparent;\n",
              "    border-bottom-color: var(--fill-color);\n",
              "    animation:\n",
              "      spin 1s steps(1) infinite;\n",
              "  }\n",
              "\n",
              "  @keyframes spin {\n",
              "    0% {\n",
              "      border-color: transparent;\n",
              "      border-bottom-color: var(--fill-color);\n",
              "      border-left-color: var(--fill-color);\n",
              "    }\n",
              "    20% {\n",
              "      border-color: transparent;\n",
              "      border-left-color: var(--fill-color);\n",
              "      border-top-color: var(--fill-color);\n",
              "    }\n",
              "    30% {\n",
              "      border-color: transparent;\n",
              "      border-left-color: var(--fill-color);\n",
              "      border-top-color: var(--fill-color);\n",
              "      border-right-color: var(--fill-color);\n",
              "    }\n",
              "    40% {\n",
              "      border-color: transparent;\n",
              "      border-right-color: var(--fill-color);\n",
              "      border-top-color: var(--fill-color);\n",
              "    }\n",
              "    60% {\n",
              "      border-color: transparent;\n",
              "      border-right-color: var(--fill-color);\n",
              "    }\n",
              "    80% {\n",
              "      border-color: transparent;\n",
              "      border-right-color: var(--fill-color);\n",
              "      border-bottom-color: var(--fill-color);\n",
              "    }\n",
              "    90% {\n",
              "      border-color: transparent;\n",
              "      border-bottom-color: var(--fill-color);\n",
              "    }\n",
              "  }\n",
              "</style>\n",
              "\n",
              "      <script>\n",
              "        async function quickchart(key) {\n",
              "          const quickchartButtonEl =\n",
              "            document.querySelector('#' + key + ' button');\n",
              "          quickchartButtonEl.disabled = true;  // To prevent multiple clicks.\n",
              "          quickchartButtonEl.classList.add('colab-df-spinner');\n",
              "          try {\n",
              "            const charts = await google.colab.kernel.invokeFunction(\n",
              "                'suggestCharts', [key], {});\n",
              "          } catch (error) {\n",
              "            console.error('Error during call to suggestCharts:', error);\n",
              "          }\n",
              "          quickchartButtonEl.classList.remove('colab-df-spinner');\n",
              "          quickchartButtonEl.classList.add('colab-df-quickchart-complete');\n",
              "        }\n",
              "        (() => {\n",
              "          let quickchartButtonEl =\n",
              "            document.querySelector('#df-194d5d4b-65c8-4bef-91f8-1bbac06beb71 button');\n",
              "          quickchartButtonEl.style.display =\n",
              "            google.colab.kernel.accessAllowed ? 'block' : 'none';\n",
              "        })();\n",
              "      </script>\n",
              "    </div>\n",
              "\n",
              "    </div>\n",
              "  </div>\n"
            ],
            "application/vnd.google.colaboratory.intrinsic+json": {
              "type": "dataframe",
              "variable_name": "df",
              "summary": "{\n  \"name\": \"df\",\n  \"rows\": 1000,\n  \"fields\": [\n    {\n      \"column\": \"student_id\",\n      \"properties\": {\n        \"dtype\": \"string\",\n        \"num_unique_values\": 1000,\n        \"samples\": [\n          \"S1521\",\n          \"S1737\",\n          \"S1740\"\n        ],\n        \"semantic_type\": \"\",\n        \"description\": \"\"\n      }\n    },\n    {\n      \"column\": \"age\",\n      \"properties\": {\n        \"dtype\": \"number\",\n        \"std\": 2,\n        \"min\": 17,\n        \"max\": 24,\n        \"num_unique_values\": 8,\n        \"samples\": [\n          20,\n          18,\n          23\n        ],\n        \"semantic_type\": \"\",\n        \"description\": \"\"\n      }\n    },\n    {\n      \"column\": \"gender\",\n      \"properties\": {\n        \"dtype\": \"category\",\n        \"num_unique_values\": 3,\n        \"samples\": [\n          \"Female\",\n          \"Male\",\n          \"Other\"\n        ],\n        \"semantic_type\": \"\",\n        \"description\": \"\"\n      }\n    },\n    {\n      \"column\": \"study_hours_per_day\",\n      \"properties\": {\n        \"dtype\": \"number\",\n        \"std\": 1.4688899303990155,\n        \"min\": 0.0,\n        \"max\": 8.3,\n        \"num_unique_values\": 78,\n        \"samples\": [\n          5.4,\n          0.0,\n          2.2\n        ],\n        \"semantic_type\": \"\",\n        \"description\": \"\"\n      }\n    },\n    {\n      \"column\": \"social_media_hours\",\n      \"properties\": {\n        \"dtype\": \"number\",\n        \"std\": 1.1724224171877315,\n        \"min\": 0.0,\n        \"max\": 7.2,\n        \"num_unique_values\": 60,\n        \"samples\": [\n          1.2,\n          1.3,\n          0.1\n        ],\n        \"semantic_type\": \"\",\n        \"description\": \"\"\n      }\n    },\n    {\n      \"column\": \"netflix_hours\",\n      \"properties\": {\n        \"dtype\": \"number\",\n        \"std\": 1.0751175692861612,\n        \"min\": 0.0,\n        \"max\": 5.4,\n        \"num_unique_values\": 51,\n        \"samples\": [\n          0.3,\n          3.7,\n          4.6\n        ],\n        \"semantic_type\": \"\",\n        \"description\": \"\"\n      }\n    },\n    {\n      \"column\": \"part_time_job\",\n      \"properties\": {\n        \"dtype\": \"category\",\n        \"num_unique_values\": 2,\n        \"samples\": [\n          \"Yes\",\n          \"No\"\n        ],\n        \"semantic_type\": \"\",\n        \"description\": \"\"\n      }\n    },\n    {\n      \"column\": \"attendance_percentage\",\n      \"properties\": {\n        \"dtype\": \"number\",\n        \"std\": 9.399246296429354,\n        \"min\": 56.0,\n        \"max\": 100.0,\n        \"num_unique_values\": 320,\n        \"samples\": [\n          75.7,\n          90.3\n        ],\n        \"semantic_type\": \"\",\n        \"description\": \"\"\n      }\n    },\n    {\n      \"column\": \"sleep_hours\",\n      \"properties\": {\n        \"dtype\": \"number\",\n        \"std\": 1.226376773259339,\n        \"min\": 3.2,\n        \"max\": 10.0,\n        \"num_unique_values\": 68,\n        \"samples\": [\n          8.2,\n          6.0\n        ],\n        \"semantic_type\": \"\",\n        \"description\": \"\"\n      }\n    },\n    {\n      \"column\": \"diet_quality\",\n      \"properties\": {\n        \"dtype\": \"category\",\n        \"num_unique_values\": 3,\n        \"samples\": [\n          \"Fair\",\n          \"Good\"\n        ],\n        \"semantic_type\": \"\",\n        \"description\": \"\"\n      }\n    },\n    {\n      \"column\": \"exercise_frequency\",\n      \"properties\": {\n        \"dtype\": \"number\",\n        \"std\": 2,\n        \"min\": 0,\n        \"max\": 6,\n        \"num_unique_values\": 7,\n        \"samples\": [\n          6,\n          1\n        ],\n        \"semantic_type\": \"\",\n        \"description\": \"\"\n      }\n    },\n    {\n      \"column\": \"parental_education_level\",\n      \"properties\": {\n        \"dtype\": \"category\",\n        \"num_unique_values\": 3,\n        \"samples\": [\n          \"Master\",\n          \"High School\"\n        ],\n        \"semantic_type\": \"\",\n        \"description\": \"\"\n      }\n    },\n    {\n      \"column\": \"internet_quality\",\n      \"properties\": {\n        \"dtype\": \"category\",\n        \"num_unique_values\": 3,\n        \"samples\": [\n          \"Average\",\n          \"Poor\"\n        ],\n        \"semantic_type\": \"\",\n        \"description\": \"\"\n      }\n    },\n    {\n      \"column\": \"mental_health_rating\",\n      \"properties\": {\n        \"dtype\": \"number\",\n        \"std\": 2,\n        \"min\": 1,\n        \"max\": 10,\n        \"num_unique_values\": 10,\n        \"samples\": [\n          2,\n          1\n        ],\n        \"semantic_type\": \"\",\n        \"description\": \"\"\n      }\n    },\n    {\n      \"column\": \"extracurricular_participation\",\n      \"properties\": {\n        \"dtype\": \"category\",\n        \"num_unique_values\": 2,\n        \"samples\": [\n          \"No\",\n          \"Yes\"\n        ],\n        \"semantic_type\": \"\",\n        \"description\": \"\"\n      }\n    },\n    {\n      \"column\": \"exam_score\",\n      \"properties\": {\n        \"dtype\": \"number\",\n        \"std\": 16.88856392181825,\n        \"min\": 18.4,\n        \"max\": 100.0,\n        \"num_unique_values\": 480,\n        \"samples\": [\n          53.5,\n          59.3\n        ],\n        \"semantic_type\": \"\",\n        \"description\": \"\"\n      }\n    }\n  ]\n}"
            }
          },
          "metadata": {},
          "execution_count": 5
        }
      ],
      "source": [
        "# Menampilkan dataset\n",
        "df.head()"
      ]
    },
    {
      "cell_type": "code",
      "execution_count": null,
      "metadata": {
        "colab": {
          "base_uri": "https://localhost:8080/"
        },
        "id": "HNDrmkaI4nmA",
        "outputId": "eb5f69ff-1499-469f-e72f-4a9706667545"
      },
      "outputs": [
        {
          "output_type": "stream",
          "name": "stdout",
          "text": [
            "<class 'pandas.core.frame.DataFrame'>\n",
            "RangeIndex: 1000 entries, 0 to 999\n",
            "Data columns (total 16 columns):\n",
            " #   Column                         Non-Null Count  Dtype  \n",
            "---  ------                         --------------  -----  \n",
            " 0   student_id                     1000 non-null   object \n",
            " 1   age                            1000 non-null   int64  \n",
            " 2   gender                         1000 non-null   object \n",
            " 3   study_hours_per_day            1000 non-null   float64\n",
            " 4   social_media_hours             1000 non-null   float64\n",
            " 5   netflix_hours                  1000 non-null   float64\n",
            " 6   part_time_job                  1000 non-null   object \n",
            " 7   attendance_percentage          1000 non-null   float64\n",
            " 8   sleep_hours                    1000 non-null   float64\n",
            " 9   diet_quality                   1000 non-null   object \n",
            " 10  exercise_frequency             1000 non-null   int64  \n",
            " 11  parental_education_level       909 non-null    object \n",
            " 12  internet_quality               1000 non-null   object \n",
            " 13  mental_health_rating           1000 non-null   int64  \n",
            " 14  extracurricular_participation  1000 non-null   object \n",
            " 15  exam_score                     1000 non-null   float64\n",
            "dtypes: float64(6), int64(3), object(7)\n",
            "memory usage: 125.1+ KB\n"
          ]
        }
      ],
      "source": [
        "# Informasi Dataset\n",
        "\n",
        "df.info()"
      ]
    },
    {
      "cell_type": "markdown",
      "source": [
        "**Insight:**\n",
        "- Dataset terdiri dari 1000 baris dan 14 kolom\n",
        "- Dataset terdiri dari kolom atudent_id, age, gender, study_hours_per_day, social_media_hours, netflix_hours, part_time_job, attendance_percentage, sleep_hours, diet_quality, exercise frequency, parental_education_level, internet_quality, mental_health_rating, extracurricular_participation, dan exam_score"
      ],
      "metadata": {
        "id": "QBCNCGXLp3oM"
      }
    },
    {
      "cell_type": "markdown",
      "metadata": {
        "id": "NQC6k5U24v12"
      },
      "source": [
        "## **Checking Missing Values**"
      ]
    },
    {
      "cell_type": "code",
      "execution_count": null,
      "metadata": {
        "colab": {
          "base_uri": "https://localhost:8080/",
          "height": 585
        },
        "id": "d1BU15rF43eu",
        "outputId": "ba827c94-8972-410e-c613-7127775423fa"
      },
      "outputs": [
        {
          "output_type": "execute_result",
          "data": {
            "text/plain": [
              "student_id                        0\n",
              "age                               0\n",
              "gender                            0\n",
              "study_hours_per_day               0\n",
              "social_media_hours                0\n",
              "netflix_hours                     0\n",
              "part_time_job                     0\n",
              "attendance_percentage             0\n",
              "sleep_hours                       0\n",
              "diet_quality                      0\n",
              "exercise_frequency                0\n",
              "parental_education_level         91\n",
              "internet_quality                  0\n",
              "mental_health_rating              0\n",
              "extracurricular_participation     0\n",
              "exam_score                        0\n",
              "dtype: int64"
            ],
            "text/html": [
              "<div>\n",
              "<style scoped>\n",
              "    .dataframe tbody tr th:only-of-type {\n",
              "        vertical-align: middle;\n",
              "    }\n",
              "\n",
              "    .dataframe tbody tr th {\n",
              "        vertical-align: top;\n",
              "    }\n",
              "\n",
              "    .dataframe thead th {\n",
              "        text-align: right;\n",
              "    }\n",
              "</style>\n",
              "<table border=\"1\" class=\"dataframe\">\n",
              "  <thead>\n",
              "    <tr style=\"text-align: right;\">\n",
              "      <th></th>\n",
              "      <th>0</th>\n",
              "    </tr>\n",
              "  </thead>\n",
              "  <tbody>\n",
              "    <tr>\n",
              "      <th>student_id</th>\n",
              "      <td>0</td>\n",
              "    </tr>\n",
              "    <tr>\n",
              "      <th>age</th>\n",
              "      <td>0</td>\n",
              "    </tr>\n",
              "    <tr>\n",
              "      <th>gender</th>\n",
              "      <td>0</td>\n",
              "    </tr>\n",
              "    <tr>\n",
              "      <th>study_hours_per_day</th>\n",
              "      <td>0</td>\n",
              "    </tr>\n",
              "    <tr>\n",
              "      <th>social_media_hours</th>\n",
              "      <td>0</td>\n",
              "    </tr>\n",
              "    <tr>\n",
              "      <th>netflix_hours</th>\n",
              "      <td>0</td>\n",
              "    </tr>\n",
              "    <tr>\n",
              "      <th>part_time_job</th>\n",
              "      <td>0</td>\n",
              "    </tr>\n",
              "    <tr>\n",
              "      <th>attendance_percentage</th>\n",
              "      <td>0</td>\n",
              "    </tr>\n",
              "    <tr>\n",
              "      <th>sleep_hours</th>\n",
              "      <td>0</td>\n",
              "    </tr>\n",
              "    <tr>\n",
              "      <th>diet_quality</th>\n",
              "      <td>0</td>\n",
              "    </tr>\n",
              "    <tr>\n",
              "      <th>exercise_frequency</th>\n",
              "      <td>0</td>\n",
              "    </tr>\n",
              "    <tr>\n",
              "      <th>parental_education_level</th>\n",
              "      <td>91</td>\n",
              "    </tr>\n",
              "    <tr>\n",
              "      <th>internet_quality</th>\n",
              "      <td>0</td>\n",
              "    </tr>\n",
              "    <tr>\n",
              "      <th>mental_health_rating</th>\n",
              "      <td>0</td>\n",
              "    </tr>\n",
              "    <tr>\n",
              "      <th>extracurricular_participation</th>\n",
              "      <td>0</td>\n",
              "    </tr>\n",
              "    <tr>\n",
              "      <th>exam_score</th>\n",
              "      <td>0</td>\n",
              "    </tr>\n",
              "  </tbody>\n",
              "</table>\n",
              "</div><br><label><b>dtype:</b> int64</label>"
            ]
          },
          "metadata": {},
          "execution_count": 7
        }
      ],
      "source": [
        "df.isnull().sum()"
      ]
    },
    {
      "cell_type": "code",
      "source": [
        "df.duplicated().any()"
      ],
      "metadata": {
        "colab": {
          "base_uri": "https://localhost:8080/"
        },
        "id": "BVe4sg1sBlw3",
        "outputId": "cfbd1803-018d-40fe-c077-7fed427b680e"
      },
      "execution_count": null,
      "outputs": [
        {
          "output_type": "execute_result",
          "data": {
            "text/plain": [
              "np.False_"
            ]
          },
          "metadata": {},
          "execution_count": 15
        }
      ]
    },
    {
      "cell_type": "markdown",
      "source": [
        "**Insight;**\n",
        "- Terdapat 91 missing value pada kolom 'parental_education_level'"
      ],
      "metadata": {
        "id": "AJ_iTRSOqyVs"
      }
    },
    {
      "cell_type": "markdown",
      "metadata": {
        "id": "WRPExFbV5YfG"
      },
      "source": [
        "## **Cleaning Data**"
      ]
    },
    {
      "cell_type": "code",
      "execution_count": null,
      "metadata": {
        "id": "a1_IoYs35bu2"
      },
      "outputs": [],
      "source": [
        "# Hapus kolom yang tidak diperlukan\n",
        "\n",
        "df.drop(columns=['student_id', 'social_media_hours', 'netflix_hours', 'part_time_job', 'parental_education_level', 'extracurricular_participation', 'internet_quality', 'diet_quality'], inplace=True)"
      ]
    },
    {
      "cell_type": "code",
      "execution_count": null,
      "metadata": {
        "id": "9voGBGD_Jx7V"
      },
      "outputs": [],
      "source": [
        "numeric_features = df.select_dtypes(include=np.number).columns.tolist()\n",
        "\n",
        "for feature in numeric_features:\n",
        "    plt.figure(figsize=(10, 6))\n",
        "    sns.boxplot(x=df[feature])\n",
        "    plt.title(f'Box Plot of {feature}')\n",
        "    plt.show()"
      ]
    },
    {
      "cell_type": "code",
      "execution_count": null,
      "metadata": {
        "id": "e6RJJVHvKkuq"
      },
      "outputs": [],
      "source": [
        "Q1 = df[numeric_features].quantile(0.25)\n",
        "Q3 = df[numeric_features].quantile(0.75)\n",
        "IQR = Q3 - Q1"
      ]
    },
    {
      "cell_type": "code",
      "execution_count": null,
      "metadata": {
        "id": "JtB5vf9gKni8"
      },
      "outputs": [],
      "source": [
        "# Filter dataframe untuk hanya menyimpan baris yang tidak mengandung outliers pada kolom numerik\n",
        "condition = ~((df[numeric_features] < (Q1 - 1.5 * IQR)) | (df[numeric_features] > (Q3 + 1.5 * IQR))).any(axis=1)\n",
        "df_filtered_numeric = df.loc[condition, numeric_features]\n",
        "\n",
        "# Menggabungkan kembali dengan kolom kategorikal\n",
        "categorical_features = df.select_dtypes(include=['object']).columns\n",
        "df = pd.concat([df_filtered_numeric, df.loc[condition, categorical_features]], axis=1)"
      ]
    },
    {
      "cell_type": "markdown",
      "source": [
        "**Insight:**\n",
        "- Menghapus kolom 'student_id', 'social_media_hours', 'netflix_hours', 'part_time_job', 'parental_education_level', 'extracurricular_participation', 'internet_quality', 'diet_quality'\n",
        "-  Melakukan IQR untuk mendeteksi outlier"
      ],
      "metadata": {
        "id": "5T4v_tnbsH4T"
      }
    },
    {
      "cell_type": "markdown",
      "source": [
        "### **Data Transformation**"
      ],
      "metadata": {
        "id": "U3HGYEZ6v061"
      }
    },
    {
      "cell_type": "code",
      "source": [
        "df['study_bin'] = pd.cut(df['study_hours_per_day'],\n",
        "                         bins=[-0.1, 0, 1, 3, 5, 8, 12],\n",
        "                         labels=['0', '<=1', '1–3', '3–5', '5–8', '>8'])"
      ],
      "metadata": {
        "id": "JvQLr0uKv3xL"
      },
      "execution_count": null,
      "outputs": []
    },
    {
      "cell_type": "markdown",
      "source": [
        "**Insight:**\n",
        "\n",
        "- Melakukan binning pada kolom 'study_hours_per_day'. Dengan detail sebagai berikut:\n",
        "  - 0: Tidak belajar sama sekali\n",
        "  - <=1: Belajar sangat singkat\n",
        "  - 1–3: Waktu belajar singkat - moderat\n",
        "  - 3–5: Umumnya cukup intensif\n",
        "  - 5–8: Sangat intensif\n",
        "  - Lebih dari 8: Terlalu lama"
      ],
      "metadata": {
        "id": "TO1IS4biv_Kc"
      }
    },
    {
      "cell_type": "markdown",
      "metadata": {
        "id": "0XAAAZ605AVG"
      },
      "source": [
        "# **Exploratory Data Analysis**"
      ]
    },
    {
      "cell_type": "code",
      "execution_count": null,
      "metadata": {
        "id": "GBm_YMRR5Fb3"
      },
      "outputs": [],
      "source": [
        "mental_health = df.groupby('mental_health_rating')[['exam_score']].mean()\n",
        "print(mental_health)"
      ]
    },
    {
      "cell_type": "code",
      "execution_count": null,
      "metadata": {
        "id": "tz1g5MqP6pz9"
      },
      "outputs": [],
      "source": [
        "mental_health.plot(kind='bar', figsize=(8, 5))\n",
        "plt.title('Distribusi Antar Mental Health dan Nilai Siswa')\n",
        "plt.xlabel('Rating')\n",
        "plt.ylabel('Nilai Siswa')\n",
        "plt.xticks(rotation=0)\n",
        "plt.show()\n"
      ]
    },
    {
      "cell_type": "code",
      "execution_count": null,
      "metadata": {
        "id": "yZk-AAW08lJT"
      },
      "outputs": [],
      "source": [
        "sleep = df.groupby('sleep_hours')[['exam_score']].mean()\n",
        "\n",
        "sleep = sleep.reset_index()\n",
        "\n",
        "sleep['sleep_bin'] = pd.cut(sleep['sleep_hours'],\n",
        "                            bins=[0, 4.99, 6.99, 8.99, 24],\n",
        "                            labels=['<5', '5–6', '7–8', '9+'])\n",
        "\n",
        "grouped = sleep.groupby('sleep_bin')['exam_score'].mean().reset_index()\n",
        "\n",
        "print(grouped)"
      ]
    },
    {
      "cell_type": "code",
      "execution_count": null,
      "metadata": {
        "id": "fOMSmdLT70uf"
      },
      "outputs": [],
      "source": [
        "plt.figure(figsize=(8, 5))\n",
        "plt.bar(grouped['sleep_bin'], grouped['exam_score'], color='mediumseagreen')\n",
        "plt.title('Rata-rata Nilai berdasarkan Kelompok Lama Tidur')\n",
        "plt.xlabel('Kelompok Lama Tidur (jam)')\n",
        "plt.ylabel('Rata-rata Nilai')\n",
        "plt.show()"
      ]
    },
    {
      "cell_type": "code",
      "source": [
        "study = df.groupby('study_bin')[['exam_score']].mean()\n",
        "print(study)"
      ],
      "metadata": {
        "id": "ivfAW1unutYs"
      },
      "execution_count": null,
      "outputs": []
    },
    {
      "cell_type": "code",
      "source": [
        "study.plot(kind='bar', figsize=(8, 5))\n",
        "plt.title('Distribusi Antar Waktu Belajar dan Nilai Siswa')\n",
        "plt.xlabel('Jam')\n",
        "plt.ylabel('Nilai Siswa')\n",
        "plt.xticks(rotation=0)\n",
        "plt.show()\n"
      ],
      "metadata": {
        "id": "6D5zJVf0vM9u"
      },
      "execution_count": null,
      "outputs": []
    },
    {
      "cell_type": "code",
      "source": [
        "exercise = df.groupby('exercise_frequency')[['exam_score']].mean()\n",
        "print(exercise)"
      ],
      "metadata": {
        "id": "H7GNjuUzvT1d"
      },
      "execution_count": null,
      "outputs": []
    },
    {
      "cell_type": "code",
      "source": [
        "exercise.plot(kind='bar', figsize=(8, 5))\n",
        "plt.title('Distribusi Antar Mental Health dan Nilai Siswa')\n",
        "plt.xlabel('Frekuensi')\n",
        "plt.ylabel('Nilai Siswa')\n",
        "plt.xticks(rotation=0)\n",
        "plt.show()\n"
      ],
      "metadata": {
        "id": "6I-llclrwUGS"
      },
      "execution_count": null,
      "outputs": []
    },
    {
      "cell_type": "markdown",
      "source": [
        "**Insight:**\n",
        "- Terdapat tren positif yang jelas antara mental health rating dan nilai ujian. Semakin bagus kesehatan mental siswa, maka semakin tinggi pula nilai ujian yang didapat.\n",
        "- Siswa yang durasi tidurnya 7-8 jam cenderung memiliki performa akademik yang optimal\n",
        "- Terdapat korelasi positif antara waktu belajar siswa dan nilai ujian yang didapatkan. Siswa yang belajar 5-8 jam memiliki nilai tertinggi\n",
        "- Faktor olahraga juga dapat mempengaruhi nilai ujian. Siswa yang memiliki nilai tertinggi ditemukan pada kelompok yang berolahraga 6 kali seminggu"
      ],
      "metadata": {
        "id": "GOFbOAPXvOfA"
      }
    },
    {
      "cell_type": "markdown",
      "metadata": {
        "id": "psPvjIK09zaj"
      },
      "source": [
        "## **Data Splitting**"
      ]
    },
    {
      "cell_type": "code",
      "execution_count": null,
      "metadata": {
        "id": "W50HwzrW_bEE"
      },
      "outputs": [],
      "source": [
        "# Variabel independen (fitur)\n",
        "X = df[['mental_health_rating', 'sleep_hours', 'exercise_frequency', 'study_hours_per_day']]\n",
        "\n",
        "# Variabel dependen\n",
        "y = df[['exam_score']]\n",
        "\n",
        "# Data splitting\n",
        "X_train, X_test, y_train, y_test = train_test_split(X, y, test_size=0.2, random_state=42)"
      ]
    },
    {
      "cell_type": "code",
      "execution_count": null,
      "metadata": {
        "id": "e5-zblJNDkz_"
      },
      "outputs": [],
      "source": [
        "from sklearn.preprocessing import StandardScaler\n",
        "scaler = StandardScaler()\n",
        "X_train_scaled = scaler.fit_transform(X_train)\n",
        "X_test_scaled = scaler.transform(X_test)"
      ]
    },
    {
      "cell_type": "markdown",
      "source": [
        "**Insight:**\n",
        "- Memisahkan fitur menjadi dua bagian, yaitu data latih dan data uji dengan proporsi 80:20.\n",
        "- Variabel independen yang digunakan adalah 'mental_health_rating', 'sleep_hours', 'exercise_frequency', 'study_hours_per_day'\n",
        "- Variabel dependen yang digunakan adalah 'exam_score'\n",
        "- Dilakukan standarisasi nilai data menggunakan standard scaler"
      ],
      "metadata": {
        "id": "gKk_g7ZvxYJ2"
      }
    },
    {
      "cell_type": "markdown",
      "source": [
        "# **Random Forest**"
      ],
      "metadata": {
        "id": "2A-PwrWSh9DT"
      }
    },
    {
      "cell_type": "markdown",
      "metadata": {
        "id": "Mf10GMbM_vGC"
      },
      "source": [
        "## **Pengembangan Model Random Forest**"
      ]
    },
    {
      "cell_type": "code",
      "execution_count": null,
      "metadata": {
        "id": "9DdnFKsl_qWj"
      },
      "outputs": [],
      "source": [
        "rf_model = RandomForestRegressor(n_estimators=200, max_depth=10, random_state=42)\n",
        "rf_model.fit(X_train, y_train)\n",
        "y_pred = rf_model.predict(X_test)"
      ]
    },
    {
      "cell_type": "markdown",
      "source": [
        "## **Evaluasi Model Random Forest**"
      ],
      "metadata": {
        "id": "jmZxuw_lhC94"
      }
    },
    {
      "cell_type": "code",
      "source": [
        "model_name = \"Random Forest\"\n",
        "y_true = y_test\n",
        "\n",
        "def evaluate_model(y_true, y_pred, model_name):\n",
        "    print(f\"\\n=== Evaluasi {model_name} ===\")\n",
        "    print(f\"MAE: {mean_absolute_error(y_true, y_pred):.4f}\")\n",
        "    print(f\"MSE: {mean_squared_error(y_true, y_pred):.4f}\")\n",
        "    print(f\"RMSE: {np.sqrt(mean_squared_error(y_true, y_pred)):.4f}\")\n",
        "    print(f\"R2 Score: {r2_score(y_true, y_pred):.4f}\")\n",
        "\n",
        "# ===== Evaluasi Random Forest =====\n",
        "evaluate_model(y_test, y_pred, \"Random Forest\")"
      ],
      "metadata": {
        "id": "D9mDLJcghH82"
      },
      "execution_count": null,
      "outputs": []
    },
    {
      "cell_type": "markdown",
      "source": [
        "# **Decision Tree**"
      ],
      "metadata": {
        "id": "9MZC5GFQiWTY"
      }
    },
    {
      "cell_type": "markdown",
      "metadata": {
        "id": "V42MQZNqBxCz"
      },
      "source": [
        "## **Pengembangan Model Decision Tree**"
      ]
    },
    {
      "cell_type": "code",
      "execution_count": null,
      "metadata": {
        "id": "LE8xkpgWBwSo"
      },
      "outputs": [],
      "source": [
        "from sklearn.tree import DecisionTreeRegressor\n",
        "\n",
        "# Inisialisasi dan latih model\n",
        "dt = DecisionTreeRegressor(random_state=42, max_depth=10)\n",
        "dt.fit(X_train, y_train)\n",
        "\n",
        "# Prediksi\n",
        "y_pred_dt = dt.predict(X_test)"
      ]
    },
    {
      "cell_type": "markdown",
      "source": [
        "## **Evaluasi Model Decision Tree**"
      ],
      "metadata": {
        "id": "2lZp5f0likgQ"
      }
    },
    {
      "cell_type": "code",
      "source": [
        "model_name = \"Decision Tree\"\n",
        "y_true = y_test\n",
        "\n",
        "def evaluate_model(y_true, y_pred, model_name):\n",
        "    print(f\"\\n=== Evaluasi {model_name} ===\")\n",
        "    print(f\"MAE: {mean_absolute_error(y_true, y_pred_dt):.4f}\")\n",
        "    print(f\"MSE: {mean_squared_error(y_true, y_pred_dt):.4f}\")\n",
        "    print(f\"RMSE: {np.sqrt(mean_squared_error(y_true, y_pred_dt)):.4f}\")\n",
        "    print(f\"R2 Score: {r2_score(y_true, y_pred_dt):.4f}\")\n",
        "\n",
        "# ===== Evaluasi Decision Tree =====\n",
        "evaluate_model(y_test, y_pred, \"Decision Tree\")"
      ],
      "metadata": {
        "id": "_LvQz7Xfin__"
      },
      "execution_count": null,
      "outputs": []
    },
    {
      "cell_type": "markdown",
      "metadata": {
        "id": "YUfcMRj1CDx5"
      },
      "source": [
        "# **Linear Regression**"
      ]
    },
    {
      "cell_type": "markdown",
      "source": [
        "## **Pengembangan Model Linear Regression**"
      ],
      "metadata": {
        "id": "KXygiPRWi9o4"
      }
    },
    {
      "cell_type": "code",
      "execution_count": null,
      "metadata": {
        "id": "-os4R4OdCJE4"
      },
      "outputs": [],
      "source": [
        "from sklearn.linear_model import LinearRegression\n",
        "\n",
        "# Inisialisasi dan latih model\n",
        "lr = LinearRegression(n_jobs=-1, positive=True)\n",
        "lr.fit(X_train, y_train)\n",
        "\n",
        "# Prediksi\n",
        "y_pred_lr = lr.predict(X_test)"
      ]
    },
    {
      "cell_type": "markdown",
      "source": [
        "## **Evaluasi Model Linear Regression**"
      ],
      "metadata": {
        "id": "svpMq-awjN-B"
      }
    },
    {
      "cell_type": "code",
      "source": [
        "model_name = \"Linear Regression\"\n",
        "y_true = y_test\n",
        "\n",
        "def evaluate_model(y_true, y_pred, model_name):\n",
        "    print(f\"\\n=== Evaluasi {model_name} ===\")\n",
        "    print(f\"MAE: {mean_absolute_error(y_true, y_pred_lr):.4f}\")\n",
        "    print(f\"MSE: {mean_squared_error(y_true, y_pred_lr):.4f}\")\n",
        "    print(f\"RMSE: {np.sqrt(mean_squared_error(y_true, y_pred_lr)):.4f}\")\n",
        "    print(f\"R2 Score: {r2_score(y_true, y_pred_lr):.4f}\")\n",
        "\n",
        "# ===== Evaluasi Random Forest =====\n",
        "evaluate_model(y_test, y_pred_lr, \"Random Forest\")"
      ],
      "metadata": {
        "id": "KCxcemhjjNVm"
      },
      "execution_count": null,
      "outputs": []
    },
    {
      "cell_type": "markdown",
      "source": [
        "# **Hyperparameter Tuning**"
      ],
      "metadata": {
        "id": "H_V6dyPtz3fN"
      }
    },
    {
      "cell_type": "code",
      "source": [
        "from sklearn.model_selection import GridSearchCV\n",
        "\n",
        "# 1. Membuat custom scoring untuk semua metrik\n",
        "scoring = {\n",
        "    'MAE': make_scorer(mean_absolute_error, greater_is_better=False),\n",
        "    'MSE': make_scorer(mean_squared_error, greater_is_better=False),\n",
        "    'R2': make_scorer(r2_score),\n",
        "    'RMSE': make_scorer(lambda y_true, y_pred: np.sqrt(mean_squared_error(y_true, y_pred))),\n",
        "}\n",
        "\n",
        "# 2. Fungsi untuk menampilkan hasil tuning\n",
        "def print_tuning_results(grid_search):\n",
        "    print(f\"Best Parameters: {grid_search.best_params_}\")\n",
        "    cv_results = grid_search.cv_results_\n",
        "\n",
        "    # Ambil hasil terbaik\n",
        "    best_index = grid_search.best_index_\n",
        "    metrics = {\n",
        "        'MAE': -cv_results[f'mean_test_MAE'][best_index],\n",
        "        'MSE': -cv_results[f'mean_test_MSE'][best_index],\n",
        "        'RMSE': cv_results[f'mean_test_RMSE'][best_index],\n",
        "        'R2': cv_results[f'mean_test_R2'][best_index]\n",
        "    }\n",
        "\n",
        "    # Tampilkan dalam tabel\n",
        "    results_df = pd.DataFrame([metrics], index=['Best Model'])\n",
        "    print(\"\\nPerformance Metrics:\")\n",
        "    print(results_df.round(4))\n",
        "\n",
        "    return metrics\n",
        "\n",
        "# 3. Linear Regression Tuning\n",
        "print(\"\\n\" + \"=\"*50)\n",
        "print(\" LINEAR REGRESSION TUNING \")\n",
        "print(\"=\"*50)\n",
        "param_grid_lr = {\n",
        "    'fit_intercept': [True, False],\n",
        "    'positive': [True, False]\n",
        "}\n",
        "grid_lr = GridSearchCV(LinearRegression(), param_grid_lr, cv=5, scoring=scoring, refit='MSE')\n",
        "grid_lr.fit(X_train, y_train)\n",
        "lr_metrics = print_tuning_results(grid_lr)\n",
        "\n",
        "# 4. Random Forest Tuning\n",
        "print(\"\\n\" + \"=\"*50)\n",
        "print(\" RANDOM FOREST TUNING \")\n",
        "print(\"=\"*50)\n",
        "param_grid_rf = {\n",
        "    'n_estimators': [100, 200],\n",
        "    'max_depth': [10, 15, None],\n",
        "    'min_samples_leaf': [1, 3]\n",
        "}\n",
        "grid_rf = GridSearchCV(RandomForestRegressor(random_state=42), param_grid_rf,\n",
        "                      cv=5, scoring=scoring, refit='MSE', n_jobs=-1)\n",
        "grid_rf.fit(X_train, y_train)\n",
        "rf_metrics = print_tuning_results(grid_rf)\n",
        "\n",
        "# 5. Decision Tree Tuning\n",
        "print(\"\\n\" + \"=\"*50)\n",
        "print(\" DECISION TREE TUNING \")\n",
        "print(\"=\"*50)\n",
        "param_grid_dt = {\n",
        "    'max_depth': [5, 8, 10],\n",
        "    'min_samples_split': [5, 10],\n",
        "    'ccp_alpha': [0, 0.01]\n",
        "}\n",
        "grid_dt = GridSearchCV(DecisionTreeRegressor(random_state=42), param_grid_dt,\n",
        "                     cv=5, scoring=scoring, refit='MSE')\n",
        "grid_dt.fit(X_train, y_train)\n",
        "dt_metrics = print_tuning_results(grid_dt)\n",
        "\n",
        "# 6. Tabel Perbandingan Final\n",
        "print(\"\\n\" + \"=\"*50)\n",
        "print(\" FINAL MODEL COMPARISON \")\n",
        "print(\"=\"*50)\n",
        "comparison = pd.DataFrame([lr_metrics, rf_metrics, dt_metrics],\n",
        "                         index=['Linear Regression', 'Random Forest', 'Decision Tree'])\n",
        "print(comparison.round(4))"
      ],
      "metadata": {
        "id": "A-RjZ_Uvz6ut"
      },
      "execution_count": null,
      "outputs": []
    }
  ],
  "metadata": {
    "colab": {
      "provenance": []
    },
    "kernelspec": {
      "display_name": "Python 3",
      "name": "python3"
    },
    "language_info": {
      "name": "python"
    }
  },
  "nbformat": 4,
  "nbformat_minor": 0
}